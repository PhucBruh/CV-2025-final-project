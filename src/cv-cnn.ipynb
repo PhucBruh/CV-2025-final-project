{
 "cells": [
  {
   "cell_type": "code",
   "execution_count": 1,
   "id": "e6d9fe8a",
   "metadata": {
    "_cell_guid": "b1076dfc-b9ad-4769-8c92-a6c4dae69d19",
    "_kg_hide-input": false,
    "_uuid": "8f2839f25d086af736a60e9eeb907d3b93b6e0e5",
    "execution": {
     "iopub.execute_input": "2025-05-14T05:59:12.762817Z",
     "iopub.status.busy": "2025-05-14T05:59:12.762552Z",
     "iopub.status.idle": "2025-05-14T05:59:22.546259Z",
     "shell.execute_reply": "2025-05-14T05:59:22.545606Z"
    },
    "papermill": {
     "duration": 9.788972,
     "end_time": "2025-05-14T05:59:22.547876",
     "exception": false,
     "start_time": "2025-05-14T05:59:12.758904",
     "status": "completed"
    },
    "tags": []
   },
   "outputs": [],
   "source": [
    "# !pip install timm\n",
    "# import timm\n",
    "\n",
    "from torch.utils.data import Dataset\n",
    "import torch\n",
    "import torch.nn as nn\n",
    "import torch.nn.functional as F\n",
    "from torchvision import datasets, transforms\n",
    "from torchvision.models import resnet18, ResNet18_Weights \n",
    "from torchvision.models import resnet50, ResNet50_Weights \n",
    "from torch.utils.data import random_split\n",
    "from torch.utils.data import WeightedRandomSampler\n",
    "from sklearn.metrics import precision_score, recall_score, f1_score\n",
    "from sklearn.metrics import confusion_matrix, ConfusionMatrixDisplay\n",
    "from tqdm import tqdm\n",
    "import time\n",
    "import random\n",
    "import os\n",
    "import matplotlib.pyplot as plt\n",
    "import numpy as np\n",
    "import pprint"
   ]
  },
  {
   "cell_type": "code",
   "execution_count": 2,
   "id": "02eed738",
   "metadata": {
    "execution": {
     "iopub.execute_input": "2025-05-14T05:59:22.553564Z",
     "iopub.status.busy": "2025-05-14T05:59:22.553235Z",
     "iopub.status.idle": "2025-05-14T05:59:22.566774Z",
     "shell.execute_reply": "2025-05-14T05:59:22.566047Z"
    },
    "papermill": {
     "duration": 0.017497,
     "end_time": "2025-05-14T05:59:22.567980",
     "exception": false,
     "start_time": "2025-05-14T05:59:22.550483",
     "status": "completed"
    },
    "tags": []
   },
   "outputs": [],
   "source": [
    "def extract_patient_ids(filename):\n",
    "    patient_id = filename.split('_')[0].replace(\"person\", \"\")\n",
    "    return patient_id\n",
    "\n",
    "def split_file_names(input_folder, val_split_perc):\n",
    "    random.seed(42)\n",
    "    \n",
    "    # Pneumonia files contain patient id, so we group split them by patient to avoid data leakage\n",
    "    pneumonia_patient_ids = set([extract_patient_ids(fn) for fn in os.listdir(os.path.join(input_folder, 'PNEUMONIA'))])\n",
    "    pneumonia_val_patient_ids = random.sample(list(pneumonia_patient_ids), int(val_split_perc * len(pneumonia_patient_ids)))\n",
    "\n",
    "    pneumonia_val_filenames = []\n",
    "    pneumonia_train_filenames = []\n",
    "\n",
    "    for filename in os.listdir(os.path.join(input_folder, 'PNEUMONIA')):\n",
    "        patient_id = extract_patient_ids(filename)\n",
    "        if patient_id in pneumonia_val_patient_ids:\n",
    "            pneumonia_val_filenames.append(os.path.join(input_folder, 'PNEUMONIA', filename))\n",
    "        else:\n",
    "            pneumonia_train_filenames.append(os.path.join(input_folder, 'PNEUMONIA', filename))\n",
    "\n",
    "    # Normal (by file, no patient information in file names)\n",
    "    normal_filenames  = [os.path.join(input_folder, 'NORMAL', fn) for fn in os.listdir(os.path.join(input_folder, 'NORMAL'))]\n",
    "    normal_val_filenames = random.sample(normal_filenames, int(val_split_perc * len(normal_filenames)))\n",
    "    normal_train_filenames = list(set(normal_filenames)-set(normal_val_filenames))\n",
    "\n",
    "    train_filenames = pneumonia_train_filenames + normal_train_filenames\n",
    "    val_filenames = pneumonia_val_filenames + normal_val_filenames\n",
    "\n",
    "    return train_filenames, val_filenames\n",
    "\n",
    "def create_weighted_sampler(h, dataset):\n",
    "    targets = [label for _, label in dataset]\n",
    "    class_counts = np.bincount(targets)\n",
    "    class_weights = 1.0 / class_counts\n",
    "    weights = [class_weights[label] for label in targets]\n",
    "    sampler = WeightedRandomSampler(weights, len(weights))\n",
    "    return sampler\n",
    "\n",
    "def prepare_data(h):\n",
    "    data_transforms = transforms.Compose([\n",
    "        transforms.Grayscale(num_output_channels=3),\n",
    "        transforms.Resize(size=(h[\"image_size\"], h[\"image_size\"])),\n",
    "        transforms.ToTensor(),\n",
    "        transforms.Normalize(mean=[0.485, 0.456, 0.406],\n",
    "                            std=[0.229, 0.224, 0.225])\n",
    "    ])\n",
    "\n",
    "    data_transforms_train = transforms.Compose([\n",
    "        transforms.Grayscale(num_output_channels=3),\n",
    "        transforms.RandomRotation(30),  # Randomly rotate the image within a range of (-20, 20) degrees\n",
    "        transforms.RandomHorizontalFlip(p=0.5),  # Randomly flip the image horizontally with 50% probability\n",
    "        transforms.ColorJitter(brightness=0.2, contrast=0.2, saturation=0.1, hue=0.1),\n",
    "        transforms.RandomResizedCrop(h[\"image_size\"], scale=(0.7, 1.0)),\n",
    "        transforms.RandomAffine(degrees=0, shear=10),\n",
    "        transforms.Resize(size=(h[\"image_size\"], h[\"image_size\"])),\n",
    "        transforms.ToTensor(),\n",
    "        transforms.Normalize(mean=[0.485, 0.456, 0.406],\n",
    "                            std=[0.229, 0.224, 0.225])\n",
    "    ])\n",
    "\n",
    "    # Define the validation split percentage\n",
    "    val_split = 0.2\n",
    "    train_filenames, val_filenames = split_file_names(\"/kaggle/input/chest-xray-pneumonia/chest_xray/train/\", val_split)\n",
    "\n",
    "    # Load the datasets\n",
    "    train_dataset = datasets.ImageFolder(\"/kaggle/input/chest-xray-pneumonia/chest_xray/train/\", transform=data_transforms_train, is_valid_file=lambda x: x in train_filenames)\n",
    "    val_dataset = datasets.ImageFolder(\"/kaggle/input/chest-xray-pneumonia/chest_xray/train/\", transform=data_transforms, is_valid_file=lambda x: x in val_filenames)    \n",
    "    test_dataset = datasets.ImageFolder(\"/kaggle/input/chest-xray-pneumonia/chest_xray/test/\", transform=data_transforms)\n",
    "\n",
    "    # Create the data loaders for train, validation, and test sets\n",
    "    if (h[\"balance\"]):\n",
    "        sampler = create_weighted_sampler(h, train_dataset)\n",
    "        train_loader = torch.utils.data.DataLoader(train_dataset, batch_size=h[\"batch_size\"], sampler=sampler, num_workers=4)    \n",
    "    else:\n",
    "        train_loader = torch.utils.data.DataLoader(train_dataset, batch_size=h[\"batch_size\"], shuffle=True, num_workers=4)    \n",
    "    val_loader = torch.utils.data.DataLoader(val_dataset, batch_size=h[\"batch_size\"], shuffle=True, num_workers=4)\n",
    "    test_loader = torch.utils.data.DataLoader(test_dataset, batch_size=h[\"batch_size\"], shuffle=True, num_workers=4)\n",
    "\n",
    "    \n",
    "    return train_loader, val_loader, test_loader\n",
    "\n",
    "def print_dataset_summary(loader, name):\n",
    "    class_names = loader.dataset.classes\n",
    "    class_counts = np.bincount([label for _, label in loader.dataset.samples])\n",
    "    \n",
    "    print(f\"\\n{name} Set Summary:\")\n",
    "    print(f\"- Total samples: {len(loader.dataset)}\")\n",
    "    print(\"- Class distribution:\")\n",
    "    for i, count in enumerate(class_counts):\n",
    "        print(f\"  {class_names[i]}: {count} samples ({count/len(loader.dataset)*100:.1f}%)\")"
   ]
  },
  {
   "cell_type": "code",
   "execution_count": 3,
   "id": "07570c36",
   "metadata": {
    "execution": {
     "iopub.execute_input": "2025-05-14T05:59:22.572858Z",
     "iopub.status.busy": "2025-05-14T05:59:22.572634Z",
     "iopub.status.idle": "2025-05-14T05:59:22.580244Z",
     "shell.execute_reply": "2025-05-14T05:59:22.579464Z"
    },
    "papermill": {
     "duration": 0.011669,
     "end_time": "2025-05-14T05:59:22.581565",
     "exception": false,
     "start_time": "2025-05-14T05:59:22.569896",
     "status": "completed"
    },
    "tags": []
   },
   "outputs": [],
   "source": [
    "def create_model(h, device):\n",
    "    if (h[\"model\"]==\"cnn\"):\n",
    "        model = nn.Sequential(\n",
    "            nn.Conv2d(3, 16, 3, padding=1),\n",
    "            nn.BatchNorm2d(16),\n",
    "            nn.ReLU(),\n",
    "            nn.MaxPool2d(2, 2),\n",
    "\n",
    "            nn.Conv2d(16, 32, 3, padding=1),\n",
    "            nn.BatchNorm2d(32),\n",
    "            nn.ReLU(),\n",
    "            nn.MaxPool2d(2, 2),\n",
    "\n",
    "            nn.Conv2d(32, 64, 3, padding=1),\n",
    "            nn.BatchNorm2d(64),\n",
    "            nn.ReLU(),\n",
    "            nn.MaxPool2d(2, 2),\n",
    "\n",
    "            nn.Flatten(),\n",
    "            nn.Dropout(h['dropout']),\n",
    "            nn.Linear(64 * (h['image_size'] // 8) * (h['image_size'] // 8), 256),\n",
    "            nn.ReLU(),\n",
    "            nn.Dropout(h['dropout']),\n",
    "            nn.Linear(256, 2)\n",
    "        )\n",
    "        model = model.to(device)\n",
    "        return model\n",
    "\n",
    "    # if (h[\"model\"]==\"efficientnetv2\"):\n",
    "    #     model = timm.create_model('tf_efficientnetv2_s.in21k', pretrained=True)\n",
    "\n",
    "    #     # Freeze\n",
    "    #     for param in model.parameters():\n",
    "    #         param.requires_grad = False\n",
    "\n",
    "    #     # Unfreeze last layer (blocks[-1])\n",
    "    #     for param in model.blocks[-1].parameters():\n",
    "    #         param.requires_grad = True\n",
    "\n",
    "    #     # Replace classifier\n",
    "    #     num_features = model.classifier.in_features\n",
    "    #     model.classifier = nn.Sequential(\n",
    "    #         nn.Dropout(h[\"dropout\"]),\n",
    "    #         nn.Linear(num_features, 128),\n",
    "    #         nn.BatchNorm1d(128),\n",
    "    #         nn.ReLU(),\n",
    "    #         nn.Dropout(h[\"dropout\"]),\n",
    "    #         nn.Linear(128, 2)\n",
    "    #     )\n",
    "\n",
    "    #     # Unfreeze FC layer\n",
    "    #     for param in model.classifier.parameters():\n",
    "    #         param.requires_grad = True\n",
    "\n",
    "    #     model = model.to(device)\n",
    "    #     return model\n",
    "    \n",
    "    if (h[\"model\"]==\"resnet50\"):\n",
    "        model = resnet50(weights=ResNet50_Weights.IMAGENET1K_V1)\n",
    "        \n",
    "        # Freeze\n",
    "        for param in model.parameters():\n",
    "            param.requires_grad = False\n",
    "\n",
    "        # Unfreeze last layer (layer4)\n",
    "        for param in model.layer4[-1].parameters():\n",
    "            param.requires_grad = True\n",
    "\n",
    "        # Replace FC layer\n",
    "        num_features = model.fc.in_features\n",
    "        model.fc = nn.Sequential(\n",
    "            nn.Dropout(h[\"dropout\"]),\n",
    "            nn.Linear(num_features, 128),\n",
    "            nn.BatchNorm1d(128),\n",
    "            nn.ReLU(),\n",
    "            nn.Dropout(h[\"dropout\"]),\n",
    "            nn.Linear(128, 2)\n",
    "        )\n",
    "\n",
    "        # Unfreeze FC layer\n",
    "        for param in model.fc.parameters():\n",
    "            param.requires_grad = True\n",
    "\n",
    "        model = model.to(device)\n",
    "        return model"
   ]
  },
  {
   "cell_type": "code",
   "execution_count": 4,
   "id": "d2567408",
   "metadata": {
    "execution": {
     "iopub.execute_input": "2025-05-14T05:59:22.586078Z",
     "iopub.status.busy": "2025-05-14T05:59:22.585855Z",
     "iopub.status.idle": "2025-05-14T05:59:22.599300Z",
     "shell.execute_reply": "2025-05-14T05:59:22.598618Z"
    },
    "papermill": {
     "duration": 0.016981,
     "end_time": "2025-05-14T05:59:22.600342",
     "exception": false,
     "start_time": "2025-05-14T05:59:22.583361",
     "status": "completed"
    },
    "tags": []
   },
   "outputs": [],
   "source": [
    "def train_model(h, model, train_loader, val_loader, optimizer, criterion, scheduler, device):\n",
    "    train_loss_history = []\n",
    "    val_loss_history = []\n",
    "    \n",
    "    train_acc_history = [] \n",
    "    val_acc_history = []\n",
    "\n",
    "    start_time = time.time()\n",
    "    num_epochs = h[\"num_epochs\"]\n",
    "\n",
    "    for epoch in range(num_epochs):\n",
    "        model.train()\n",
    "        running_loss = 0.0\n",
    "        correct = 0\n",
    "        total = 0\n",
    "        \n",
    "        progress_bar = tqdm(train_loader, desc=f\"Training epoch {epoch + 1}/{num_epochs}\", leave=False, unit=\"mini-batch\")\n",
    "        for inputs, labels in progress_bar:\n",
    "            inputs, labels = inputs.to(device), labels.to(device)      \n",
    "            optimizer.zero_grad()\n",
    "            outputs = model(inputs)\n",
    "            loss = criterion(outputs, labels)\n",
    "            loss.backward()\n",
    "            optimizer.step()\n",
    "\n",
    "            running_loss += loss.item()\n",
    "            _, predicted = torch.max(outputs.data, 1)\n",
    "            total += labels.size(0)\n",
    "            correct += (predicted == labels).sum().item()\n",
    "            \n",
    "            progress_bar.set_postfix(loss=loss.item())\n",
    "        \n",
    "        train_accuracy = correct / total\n",
    "        train_acc_history.append(train_accuracy)\n",
    "\n",
    "        val_loss, val_accuracy, _, _ = evaluate_model(h, model, val_loader, criterion, device)\n",
    "        val_acc_history.append(val_accuracy)\n",
    "        \n",
    "        if (scheduler):\n",
    "            scheduler.step(val_loss)\n",
    "        \n",
    "        # Store the loss history\n",
    "        train_loss = running_loss / len(train_loader)\n",
    "        train_loss_history.append(train_loss)\n",
    "        val_loss_history.append(val_loss)     \n",
    "\n",
    "        # Calculate elapsed time and remaining time\n",
    "        elapsed_time = time.time() - start_time\n",
    "        avg_time_per_epoch = elapsed_time / (epoch + 1)\n",
    "        remaining_epochs = num_epochs - (epoch + 1)\n",
    "        remaining_time = avg_time_per_epoch * remaining_epochs\n",
    "\n",
    "        # Convert remaining time to minutes and seconds\n",
    "        remaining_time_min, remaining_time_sec = divmod(remaining_time, 60)\n",
    "\n",
    "        print(f\"Epoch [{epoch + 1}/{num_epochs}]: Train Loss: {running_loss / len(train_loader):.4f}, Val Loss: {val_loss:.4f}, Remaining Time: {remaining_time_min:.0f}m {remaining_time_sec:.0f}s\")\n",
    "    # Save train history\n",
    "    np.save('train_loss_history.npy', np.array(train_loss_history))\n",
    "    np.save('val_loss_history.npy', np.array(val_loss_history))\n",
    "    np.save('train_acc_history.npy', np.array(train_acc_history)) \n",
    "    np.save('val_acc_history.npy', np.array(val_acc_history))\n",
    "\n",
    "    return train_loss_history, val_loss_history, train_acc_history, val_acc_history\n",
    "\n",
    "def evaluate_model(h, model, data_loader, criterion, device):\n",
    "    true_labels = []\n",
    "    predicted_labels = []\n",
    "    total_loss = 0.0\n",
    "    correct = 0\n",
    "    total = 0\n",
    "    model.eval()\n",
    "    with torch.no_grad():\n",
    "        for inputs, labels in data_loader:\n",
    "            inputs, labels = inputs.to(device), labels.to(device)          \n",
    "\n",
    "            outputs = model(inputs)\n",
    "\n",
    "            loss = criterion(outputs, labels)\n",
    "            total_loss += loss.item()\n",
    "\n",
    "            _, predicted = torch.max(outputs.data, 1)\n",
    "            correct += (predicted == labels).sum().item()\n",
    "            total += labels.size(0)\n",
    "\n",
    "            true_labels.extend(labels.cpu().numpy())\n",
    "            predicted_labels.extend(predicted.cpu().numpy())\n",
    "\n",
    "    epoch_loss = total_loss / len(data_loader)\n",
    "    epoch_accuracy = float(correct / total)\n",
    "\n",
    "    return epoch_loss, epoch_accuracy, true_labels, predicted_labels\n",
    "\n",
    "\n",
    "def plot_metrics(h, \n",
    "                 train_loss_history, val_loss_history, \n",
    "                 train_acc_history, val_acc_history,\n",
    "                 test_loss, test_accuracy, \n",
    "                 true_labels, predicted_labels):\n",
    "    print(f\"Accuracy on the test set: {test_accuracy:.2%}\")\n",
    "\n",
    "    # Calculate precision, recall, and F1 score using the accumulated true labels and predictions\n",
    "    precision = precision_score(true_labels, predicted_labels)\n",
    "    recall = recall_score(true_labels, predicted_labels)\n",
    "    f1 = f1_score(true_labels, predicted_labels)\n",
    "    print(f\"Precision: {precision:.2f}, Recall: {recall:.2f}, F1 score: {f1:.2f}\")\n",
    "\n",
    "    # Calculate the confusion matrix using the accumulated true labels and predictions\n",
    "    cm = confusion_matrix(true_labels, predicted_labels)\n",
    "\n",
    "    # Visualize the confusion matrix\n",
    "    plt.figure()\n",
    "    disp = ConfusionMatrixDisplay(confusion_matrix=cm, display_labels=[\"Normal\", \"Pneumonia\"])\n",
    "    disp.plot()\n",
    "    \n",
    "    # Plot the learning curves\n",
    "    plt.figure()\n",
    "    plt.plot(train_loss_history, label='Train Loss')\n",
    "    plt.plot(val_loss_history, label='Validation Loss')\n",
    "    plt.xlabel('Epoch')\n",
    "    plt.ylabel('Loss')\n",
    "    plt.title('Loss history')\n",
    "    plt.legend()\n",
    "    plt.show()  \n",
    "\n",
    "    # Plot accuracy history\n",
    "    plt.figure()\n",
    "    plt.plot(train_acc_history, label='Train Accuracy')\n",
    "    plt.plot(val_acc_history, label='Validation Accuracy')\n",
    "    plt.xlabel('Epoch')\n",
    "    plt.ylabel('Accuracy')\n",
    "    plt.title('Accuracy History')\n",
    "    plt.legend()\n",
    "    plt.show()\n",
    "\n",
    "def create_scheduler(h, optimizer, lr):\n",
    "    scheduler_name = h[\"scheduler\"]\n",
    "    if (scheduler_name==\"\"):\n",
    "        return None\n",
    "    if (scheduler_name==\"CosineAnnealingLR10\"):\n",
    "        return torch.optim.lr_scheduler.CosineAnnealingLR(optimizer, T_max=h[\"num_epochs\"], eta_min=lr*0.1)\n",
    "    if (scheduler_name==\"ReduceLROnPlateau5\"):\n",
    "        return torch.optim.lr_scheduler.ReduceLROnPlateau(optimizer, mode='min', factor=0.1, patience=5, verbose=True)\n",
    "    print (\"Error. Unknown scheduler name '{scheduler_name}'\")\n",
    "    return None"
   ]
  },
  {
   "cell_type": "code",
   "execution_count": 5,
   "id": "6f67f42f",
   "metadata": {
    "execution": {
     "iopub.execute_input": "2025-05-14T05:59:22.604997Z",
     "iopub.status.busy": "2025-05-14T05:59:22.604794Z",
     "iopub.status.idle": "2025-05-14T05:59:22.610522Z",
     "shell.execute_reply": "2025-05-14T05:59:22.609787Z"
    },
    "papermill": {
     "duration": 0.009649,
     "end_time": "2025-05-14T05:59:22.611791",
     "exception": false,
     "start_time": "2025-05-14T05:59:22.602142",
     "status": "completed"
    },
    "tags": []
   },
   "outputs": [],
   "source": [
    "def check_solution(h, device, verbose):\n",
    "    train_loader, val_loader, test_loader = prepare_data(h)\n",
    "    print_dataset_summary(train_loader, \"TRAIN\")\n",
    "    print_dataset_summary(val_loader, \"VALIDATION\")\n",
    "    print_dataset_summary(test_loader, \"TEST\")\n",
    "    model = create_model(h, device)\n",
    "    optimizer = torch.optim.Adam(model.parameters(), lr=h[\"lr\"], weight_decay=1e-4)\n",
    "    scheduler = create_scheduler(h, optimizer, h[\"lr\"])\n",
    "    criterion = nn.CrossEntropyLoss(label_smoothing=0.1)\n",
    "    train_loss_history, val_loss_history, train_acc_history, val_acc_history = train_model(\n",
    "        h, model, train_loader, val_loader, optimizer, criterion, scheduler, device)\n",
    "    \n",
    "    test_loss, test_accuracy, true_labels, predicted_labels = evaluate_model(\n",
    "        h, model, test_loader, criterion, device)\n",
    "    \n",
    "    if verbose:\n",
    "        plot_metrics(h,\n",
    "                     train_loss_history, val_loss_history, \n",
    "                     train_acc_history, val_acc_history,\n",
    "                     test_loss, test_accuracy, true_labels, predicted_labels)\n",
    "\n",
    "    f1 = f1_score(true_labels, predicted_labels)\n",
    "    \n",
    "    save_path = \"m_CNN.pth\"\n",
    "    torch.save(model.state_dict(), save_path)\n",
    "    print(f\"Model weights saved to {save_path}\")\n",
    "    \n",
    "    return f1, test_accuracy"
   ]
  },
  {
   "cell_type": "code",
   "execution_count": 6,
   "id": "3b717eb1",
   "metadata": {
    "execution": {
     "iopub.execute_input": "2025-05-14T05:59:22.616885Z",
     "iopub.status.busy": "2025-05-14T05:59:22.616393Z",
     "iopub.status.idle": "2025-05-14T07:13:48.040554Z",
     "shell.execute_reply": "2025-05-14T07:13:48.039720Z"
    },
    "papermill": {
     "duration": 4465.42785,
     "end_time": "2025-05-14T07:13:48.041746",
     "exception": false,
     "start_time": "2025-05-14T05:59:22.613896",
     "status": "completed"
    },
    "tags": []
   },
   "outputs": [
    {
     "name": "stdout",
     "output_type": "stream",
     "text": [
      "Device: cuda\n",
      "Number of CPU cores: 4\n",
      "GPU name: Tesla P100-PCIE-16GB\n",
      "Hyperparameters:\n",
      "{'balance': True,\n",
      " 'batch_size': 32,\n",
      " 'dropout': 0.3,\n",
      " 'fc1_size': 512,\n",
      " 'image_size': 224,\n",
      " 'lr': 1e-05,\n",
      " 'model': 'cnn',\n",
      " 'num_epochs': 20,\n",
      " 'scheduler': 'CosineAnnealingLR10'}\n",
      "Running solution 1/1\n",
      "\n",
      "TRAIN Set Summary:\n",
      "- Total samples: 4146\n",
      "- Class distribution:\n",
      "  NORMAL: 1073 samples (25.9%)\n",
      "  PNEUMONIA: 3073 samples (74.1%)\n",
      "\n",
      "VALIDATION Set Summary:\n",
      "- Total samples: 1070\n",
      "- Class distribution:\n",
      "  NORMAL: 268 samples (25.0%)\n",
      "  PNEUMONIA: 802 samples (75.0%)\n",
      "\n",
      "TEST Set Summary:\n",
      "- Total samples: 624\n",
      "- Class distribution:\n",
      "  NORMAL: 234 samples (37.5%)\n",
      "  PNEUMONIA: 390 samples (62.5%)\n"
     ]
    },
    {
     "name": "stderr",
     "output_type": "stream",
     "text": [
      "/usr/local/lib/python3.11/dist-packages/torch/optim/lr_scheduler.py:240: UserWarning: The epoch parameter in `scheduler.step()` was not necessary and is being deprecated where possible. Please use `scheduler.step()` to step the scheduler. During the deprecation, if epoch is different from None, the closed form is used instead of the new chainable form, where available. Please open an issue if you are unable to replicate your use case: https://github.com/pytorch/pytorch/issues/new/choose.\n",
      "  warnings.warn(EPOCH_DEPRECATION_WARNING, UserWarning)\n"
     ]
    },
    {
     "name": "stdout",
     "output_type": "stream",
     "text": [
      "Epoch [1/20]: Train Loss: 0.4696, Val Loss: 0.4517, Remaining Time: 65m 36s\n"
     ]
    },
    {
     "name": "stderr",
     "output_type": "stream",
     "text": [
      "                                                                                          \r"
     ]
    },
    {
     "name": "stdout",
     "output_type": "stream",
     "text": [
      "Epoch [2/20]: Train Loss: 0.3727, Val Loss: 0.4796, Remaining Time: 61m 39s\n"
     ]
    },
    {
     "name": "stderr",
     "output_type": "stream",
     "text": [
      "                                                                                          \r"
     ]
    },
    {
     "name": "stdout",
     "output_type": "stream",
     "text": [
      "Epoch [3/20]: Train Loss: 0.3681, Val Loss: 0.4704, Remaining Time: 58m 15s\n"
     ]
    },
    {
     "name": "stderr",
     "output_type": "stream",
     "text": [
      "                                                                                          \r"
     ]
    },
    {
     "name": "stdout",
     "output_type": "stream",
     "text": [
      "Epoch [4/20]: Train Loss: 0.3607, Val Loss: 0.4569, Remaining Time: 54m 53s\n"
     ]
    },
    {
     "name": "stderr",
     "output_type": "stream",
     "text": [
      "                                                                                          \r"
     ]
    },
    {
     "name": "stdout",
     "output_type": "stream",
     "text": [
      "Epoch [5/20]: Train Loss: 0.3472, Val Loss: 0.4324, Remaining Time: 51m 25s\n"
     ]
    },
    {
     "name": "stderr",
     "output_type": "stream",
     "text": [
      "                                                                                          \r"
     ]
    },
    {
     "name": "stdout",
     "output_type": "stream",
     "text": [
      "Epoch [6/20]: Train Loss: 0.3506, Val Loss: 0.4163, Remaining Time: 47m 58s\n"
     ]
    },
    {
     "name": "stderr",
     "output_type": "stream",
     "text": [
      "                                                                                          \r"
     ]
    },
    {
     "name": "stdout",
     "output_type": "stream",
     "text": [
      "Epoch [7/20]: Train Loss: 0.3342, Val Loss: 0.4067, Remaining Time: 44m 37s\n"
     ]
    },
    {
     "name": "stderr",
     "output_type": "stream",
     "text": [
      "                                                                                          \r"
     ]
    },
    {
     "name": "stdout",
     "output_type": "stream",
     "text": [
      "Epoch [8/20]: Train Loss: 0.3392, Val Loss: 0.3930, Remaining Time: 41m 4s\n"
     ]
    },
    {
     "name": "stderr",
     "output_type": "stream",
     "text": [
      "                                                                                          \r"
     ]
    },
    {
     "name": "stdout",
     "output_type": "stream",
     "text": [
      "Epoch [9/20]: Train Loss: 0.3338, Val Loss: 0.4003, Remaining Time: 37m 42s\n"
     ]
    },
    {
     "name": "stderr",
     "output_type": "stream",
     "text": [
      "                                                                                           \r"
     ]
    },
    {
     "name": "stdout",
     "output_type": "stream",
     "text": [
      "Epoch [10/20]: Train Loss: 0.3303, Val Loss: 0.4133, Remaining Time: 34m 15s\n"
     ]
    },
    {
     "name": "stderr",
     "output_type": "stream",
     "text": [
      "                                                                                           \r"
     ]
    },
    {
     "name": "stdout",
     "output_type": "stream",
     "text": [
      "Epoch [11/20]: Train Loss: 0.3309, Val Loss: 0.3670, Remaining Time: 30m 50s\n"
     ]
    },
    {
     "name": "stderr",
     "output_type": "stream",
     "text": [
      "                                                                                           \r"
     ]
    },
    {
     "name": "stdout",
     "output_type": "stream",
     "text": [
      "Epoch [12/20]: Train Loss: 0.3315, Val Loss: 0.3663, Remaining Time: 27m 21s\n"
     ]
    },
    {
     "name": "stderr",
     "output_type": "stream",
     "text": [
      "                                                                                           \r"
     ]
    },
    {
     "name": "stdout",
     "output_type": "stream",
     "text": [
      "Epoch [13/20]: Train Loss: 0.3152, Val Loss: 0.3716, Remaining Time: 23m 57s\n"
     ]
    },
    {
     "name": "stderr",
     "output_type": "stream",
     "text": [
      "                                                                                           \r"
     ]
    },
    {
     "name": "stdout",
     "output_type": "stream",
     "text": [
      "Epoch [14/20]: Train Loss: 0.3216, Val Loss: 0.4085, Remaining Time: 20m 31s\n"
     ]
    },
    {
     "name": "stderr",
     "output_type": "stream",
     "text": [
      "                                                                                           \r"
     ]
    },
    {
     "name": "stdout",
     "output_type": "stream",
     "text": [
      "Epoch [15/20]: Train Loss: 0.3243, Val Loss: 0.4165, Remaining Time: 17m 6s\n"
     ]
    },
    {
     "name": "stderr",
     "output_type": "stream",
     "text": [
      "                                                                                           \r"
     ]
    },
    {
     "name": "stdout",
     "output_type": "stream",
     "text": [
      "Epoch [16/20]: Train Loss: 0.3159, Val Loss: 0.4163, Remaining Time: 13m 40s\n"
     ]
    },
    {
     "name": "stderr",
     "output_type": "stream",
     "text": [
      "                                                                                           \r"
     ]
    },
    {
     "name": "stdout",
     "output_type": "stream",
     "text": [
      "Epoch [17/20]: Train Loss: 0.3225, Val Loss: 0.4409, Remaining Time: 10m 14s\n"
     ]
    },
    {
     "name": "stderr",
     "output_type": "stream",
     "text": [
      "                                                                                           \r"
     ]
    },
    {
     "name": "stdout",
     "output_type": "stream",
     "text": [
      "Epoch [18/20]: Train Loss: 0.3165, Val Loss: 0.3591, Remaining Time: 6m 49s\n"
     ]
    },
    {
     "name": "stderr",
     "output_type": "stream",
     "text": [
      "                                                                                           \r"
     ]
    },
    {
     "name": "stdout",
     "output_type": "stream",
     "text": [
      "Epoch [19/20]: Train Loss: 0.3112, Val Loss: 0.3656, Remaining Time: 3m 25s\n"
     ]
    },
    {
     "name": "stderr",
     "output_type": "stream",
     "text": [
      "                                                                                           \r"
     ]
    },
    {
     "name": "stdout",
     "output_type": "stream",
     "text": [
      "Epoch [20/20]: Train Loss: 0.3136, Val Loss: 0.3901, Remaining Time: 0m 0s\n",
      "Accuracy on the test set: 86.86%\n",
      "Precision: 0.92, Recall: 0.87, F1 score: 0.89\n"
     ]
    },
    {
     "data": {
      "text/plain": [
       "<Figure size 640x480 with 0 Axes>"
      ]
     },
     "metadata": {},
     "output_type": "display_data"
    },
    {
     "data": {
      "image/png": "[encoded data removed]",
      "text/plain": [
       "<Figure size 640x480 with 2 Axes>"
      ]
     },
     "metadata": {},
     "output_type": "display_data"
    },
    {
     "data": {
      "image/png": "[encoded data removed]",
      "text/plain": [
       "<Figure size 640x480 with 1 Axes>"
      ]
     },
     "metadata": {},
     "output_type": "display_data"
    },
    {
     "data": {
      "image/png": "[encoded data removed]",
      "text/plain": [
       "<Figure size 640x480 with 1 Axes>"
      ]
     },
     "metadata": {},
     "output_type": "display_data"
    },
    {
     "name": "stdout",
     "output_type": "stream",
     "text": [
      "Model weights saved to m_CNN.pth\n",
      "F1 = 0.89, accuracy = 0.87\n"
     ]
    }
   ],
   "source": [
    "h = {\n",
    "    \"num_epochs\": 20,\n",
    "    \"batch_size\": 32,\n",
    "    \"image_size\": 224,\n",
    "    \"fc1_size\": 512,\n",
    "    \"lr\": 1e-5,\n",
    "    \"model\": \"cnn\",\n",
    "    \"scheduler\": \"CosineAnnealingLR10\",\n",
    "    \"balance\": True,\n",
    "    \"dropout\" : 0.3\n",
    "}\n",
    "\n",
    "# Check if GPU is available and set the device accordingly\n",
    "device = torch.device(\"cuda\" if torch.cuda.is_available() else \"cpu\")\n",
    "print(f\"Device: {device}\")\n",
    "\n",
    "# Get number of CPU cores\n",
    "num_cpu_cores = os.cpu_count()\n",
    "print(f\"Number of CPU cores: {num_cpu_cores}\")\n",
    "\n",
    "# Get GPU name\n",
    "if torch.cuda.is_available():\n",
    "    gpu_name = torch.cuda.get_device_name(0)\n",
    "    print(f\"GPU name: {gpu_name}\")\n",
    "else:\n",
    "    print(\"No GPU available\")\n",
    "\n",
    "# Print hyperparameters for records\n",
    "print(\"Hyperparameters:\")\n",
    "pprint.pprint(h)\n",
    "\n",
    "f1_array = np.array([])\n",
    "accuracy_array = np.array([])\n",
    "start_time = time.time()\n",
    "\n",
    "# Run model\n",
    "print(\"Running solution 1/1\")\n",
    "f1, accuracy = check_solution(h, device, verbose=True)\n",
    "print(f\"F1 = {f1:.2f}, accuracy = {accuracy:.2f}\")\n",
    "\n",
    "# Calculate time\n",
    "elapsed_time = time.time() - start_time\n",
    "elapsed_min, elapsed_sec = divmod(elapsed_time, 60)"
   ]
  },
  {
   "cell_type": "code",
   "execution_count": 7,
   "id": "911e1dd0",
   "metadata": {
    "execution": {
     "iopub.execute_input": "2025-05-14T07:13:48.367885Z",
     "iopub.status.busy": "2025-05-14T07:13:48.367107Z",
     "iopub.status.idle": "2025-05-14T07:13:48.370956Z",
     "shell.execute_reply": "2025-05-14T07:13:48.370256Z"
    },
    "papermill": {
     "duration": 0.166572,
     "end_time": "2025-05-14T07:13:48.372072",
     "exception": false,
     "start_time": "2025-05-14T07:13:48.205500",
     "status": "completed"
    },
    "tags": []
   },
   "outputs": [],
   "source": [
    "# def load_model(h, device, path):\n",
    "#     model = create_model(h, device)\n",
    "#     # Load weights\n",
    "#     model.load_state_dict(torch.load(path))\n",
    "#     model.eval() \n",
    "#     return model\n",
    "\n",
    "# loaded_model = load_model(h, device, '/content/weigth_efficientnetv2.pth')"
   ]
  }
 ],
 "metadata": {
  "kaggle": {
   "accelerator": "gpu",
   "dataSources": [
    {
     "datasetId": 17810,
     "sourceId": 23812,
     "sourceType": "datasetVersion"
    }
   ],
   "dockerImageVersionId": 31011,
   "isGpuEnabled": true,
   "isInternetEnabled": true,
   "language": "python",
   "sourceType": "notebook"
  },
  "kernelspec": {
   "display_name": "Python 3",
   "language": "python",
   "name": "python3"
  },
  "language_info": {
   "codemirror_mode": {
    "name": "ipython",
    "version": 3
   },
   "file_extension": ".py",
   "mimetype": "text/x-python",
   "name": "python",
   "nbconvert_exporter": "python",
   "pygments_lexer": "ipython3",
   "version": "3.11.11"
  },
  "papermill": {
   "default_parameters": {},
   "duration": 4482.626049,
   "end_time": "2025-05-14T07:13:51.206177",
   "environment_variables": {},
   "exception": null,
   "input_path": "__notebook__.ipynb",
   "output_path": "__notebook__.ipynb",
   "parameters": {},
   "start_time": "2025-05-14T05:59:08.580128",
   "version": "2.6.0"
  }
 },
 "nbformat": 4,
 "nbformat_minor": 5
}
