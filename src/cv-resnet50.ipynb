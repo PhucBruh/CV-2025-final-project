{
 "cells": [
  {
   "cell_type": "code",
   "execution_count": 1,
   "id": "0a9ac3b3",
   "metadata": {
    "_cell_guid": "b1076dfc-b9ad-4769-8c92-a6c4dae69d19",
    "_kg_hide-input": false,
    "_uuid": "8f2839f25d086af736a60e9eeb907d3b93b6e0e5",
    "execution": {
     "iopub.execute_input": "2025-05-14T05:42:48.505710Z",
     "iopub.status.busy": "2025-05-14T05:42:48.505456Z",
     "iopub.status.idle": "2025-05-14T05:42:58.794366Z",
     "shell.execute_reply": "2025-05-14T05:42:58.793722Z"
    },
    "papermill": {
     "duration": 10.293722,
     "end_time": "2025-05-14T05:42:58.795775",
     "exception": false,
     "start_time": "2025-05-14T05:42:48.502053",
     "status": "completed"
    },
    "tags": []
   },
   "outputs": [],
   "source": [
    "# !pip install timm\n",
    "# import timm\n",
    "\n",
    "from torch.utils.data import Dataset\n",
    "import torch\n",
    "import torch.nn as nn\n",
    "import torch.nn.functional as F\n",
    "from torchvision import datasets, transforms\n",
    "from torchvision.models import resnet18, ResNet18_Weights \n",
    "from torchvision.models import resnet50, ResNet50_Weights \n",
    "from torch.utils.data import random_split\n",
    "from torch.utils.data import WeightedRandomSampler\n",
    "from sklearn.metrics import precision_score, recall_score, f1_score\n",
    "from sklearn.metrics import confusion_matrix, ConfusionMatrixDisplay\n",
    "from tqdm import tqdm\n",
    "import time\n",
    "import random\n",
    "import os\n",
    "import matplotlib.pyplot as plt\n",
    "import numpy as np\n",
    "import pprint"
   ]
  },
  {
   "cell_type": "code",
   "execution_count": 2,
   "id": "5df517a0",
   "metadata": {
    "execution": {
     "iopub.execute_input": "2025-05-14T05:42:58.801414Z",
     "iopub.status.busy": "2025-05-14T05:42:58.801065Z",
     "iopub.status.idle": "2025-05-14T05:42:58.814582Z",
     "shell.execute_reply": "2025-05-14T05:42:58.813846Z"
    },
    "papermill": {
     "duration": 0.017727,
     "end_time": "2025-05-14T05:42:58.815868",
     "exception": false,
     "start_time": "2025-05-14T05:42:58.798141",
     "status": "completed"
    },
    "tags": []
   },
   "outputs": [],
   "source": [
    "def extract_patient_ids(filename):\n",
    "    patient_id = filename.split('_')[0].replace(\"person\", \"\")\n",
    "    return patient_id\n",
    "\n",
    "def split_file_names(input_folder, val_split_perc):\n",
    "    random.seed(42)\n",
    "    \n",
    "    # Pneumonia files contain patient id, so we group split them by patient to avoid data leakage\n",
    "    pneumonia_patient_ids = set([extract_patient_ids(fn) for fn in os.listdir(os.path.join(input_folder, 'PNEUMONIA'))])\n",
    "    pneumonia_val_patient_ids = random.sample(list(pneumonia_patient_ids), int(val_split_perc * len(pneumonia_patient_ids)))\n",
    "\n",
    "    pneumonia_val_filenames = []\n",
    "    pneumonia_train_filenames = []\n",
    "\n",
    "    for filename in os.listdir(os.path.join(input_folder, 'PNEUMONIA')):\n",
    "        patient_id = extract_patient_ids(filename)\n",
    "        if patient_id in pneumonia_val_patient_ids:\n",
    "            pneumonia_val_filenames.append(os.path.join(input_folder, 'PNEUMONIA', filename))\n",
    "        else:\n",
    "            pneumonia_train_filenames.append(os.path.join(input_folder, 'PNEUMONIA', filename))\n",
    "\n",
    "    # Normal (by file, no patient information in file names)\n",
    "    normal_filenames  = [os.path.join(input_folder, 'NORMAL', fn) for fn in os.listdir(os.path.join(input_folder, 'NORMAL'))]\n",
    "    normal_val_filenames = random.sample(normal_filenames, int(val_split_perc * len(normal_filenames)))\n",
    "    normal_train_filenames = list(set(normal_filenames)-set(normal_val_filenames))\n",
    "\n",
    "    train_filenames = pneumonia_train_filenames + normal_train_filenames\n",
    "    val_filenames = pneumonia_val_filenames + normal_val_filenames\n",
    "\n",
    "    return train_filenames, val_filenames\n",
    "\n",
    "def create_weighted_sampler(h, dataset):\n",
    "    targets = [label for _, label in dataset]\n",
    "    class_counts = np.bincount(targets)\n",
    "    class_weights = 1.0 / class_counts\n",
    "    weights = [class_weights[label] for label in targets]\n",
    "    sampler = WeightedRandomSampler(weights, len(weights))\n",
    "    return sampler\n",
    "\n",
    "def prepare_data(h):\n",
    "    data_transforms = transforms.Compose([\n",
    "        transforms.Grayscale(num_output_channels=3),\n",
    "        transforms.Resize(size=(h[\"image_size\"], h[\"image_size\"])),\n",
    "        transforms.ToTensor(),\n",
    "        transforms.Normalize(mean=[0.485, 0.456, 0.406],\n",
    "                            std=[0.229, 0.224, 0.225])\n",
    "    ])\n",
    "\n",
    "    data_transforms_train = transforms.Compose([\n",
    "        transforms.Grayscale(num_output_channels=3),\n",
    "        transforms.RandomRotation(30),  # Randomly rotate the image within a range of (-20, 20) degrees\n",
    "        transforms.RandomHorizontalFlip(p=0.5),  # Randomly flip the image horizontally with 50% probability\n",
    "        transforms.ColorJitter(brightness=0.2, contrast=0.2, saturation=0.1, hue=0.1),\n",
    "        transforms.RandomResizedCrop(h[\"image_size\"], scale=(0.7, 1.0)),\n",
    "        transforms.RandomAffine(degrees=0, shear=10),\n",
    "        transforms.Resize(size=(h[\"image_size\"], h[\"image_size\"])),\n",
    "        transforms.ToTensor(),\n",
    "        transforms.Normalize(mean=[0.485, 0.456, 0.406],\n",
    "                            std=[0.229, 0.224, 0.225])\n",
    "    ])\n",
    "\n",
    "    # Define the validation split percentage\n",
    "    val_split = 0.2\n",
    "    train_filenames, val_filenames = split_file_names(\"/kaggle/input/chest-xray-pneumonia/chest_xray/train/\", val_split)\n",
    "\n",
    "    # Load the datasets\n",
    "    train_dataset = datasets.ImageFolder(\"/kaggle/input/chest-xray-pneumonia/chest_xray/train/\", transform=data_transforms_train, is_valid_file=lambda x: x in train_filenames)\n",
    "    val_dataset = datasets.ImageFolder(\"/kaggle/input/chest-xray-pneumonia/chest_xray/train/\", transform=data_transforms, is_valid_file=lambda x: x in val_filenames)    \n",
    "    test_dataset = datasets.ImageFolder(\"/kaggle/input/chest-xray-pneumonia/chest_xray/test/\", transform=data_transforms)\n",
    "\n",
    "    # Create the data loaders for train, validation, and test sets\n",
    "    if (h[\"balance\"]):\n",
    "        sampler = create_weighted_sampler(h, train_dataset)\n",
    "        train_loader = torch.utils.data.DataLoader(train_dataset, batch_size=h[\"batch_size\"], sampler=sampler, num_workers=4)    \n",
    "    else:\n",
    "        train_loader = torch.utils.data.DataLoader(train_dataset, batch_size=h[\"batch_size\"], shuffle=True, num_workers=4)    \n",
    "    val_loader = torch.utils.data.DataLoader(val_dataset, batch_size=h[\"batch_size\"], shuffle=True, num_workers=4)\n",
    "    test_loader = torch.utils.data.DataLoader(test_dataset, batch_size=h[\"batch_size\"], shuffle=True, num_workers=4)\n",
    "\n",
    "    \n",
    "    return train_loader, val_loader, test_loader\n",
    "\n",
    "def print_dataset_summary(loader, name):\n",
    "    class_names = loader.dataset.classes\n",
    "    class_counts = np.bincount([label for _, label in loader.dataset.samples])\n",
    "    \n",
    "    print(f\"\\n{name} Set Summary:\")\n",
    "    print(f\"- Total samples: {len(loader.dataset)}\")\n",
    "    print(\"- Class distribution:\")\n",
    "    for i, count in enumerate(class_counts):\n",
    "        print(f\"  {class_names[i]}: {count} samples ({count/len(loader.dataset)*100:.1f}%)\")"
   ]
  },
  {
   "cell_type": "code",
   "execution_count": 3,
   "id": "8168d79c",
   "metadata": {
    "execution": {
     "iopub.execute_input": "2025-05-14T05:42:58.820534Z",
     "iopub.status.busy": "2025-05-14T05:42:58.820298Z",
     "iopub.status.idle": "2025-05-14T05:42:58.827314Z",
     "shell.execute_reply": "2025-05-14T05:42:58.826764Z"
    },
    "papermill": {
     "duration": 0.010433,
     "end_time": "2025-05-14T05:42:58.828308",
     "exception": false,
     "start_time": "2025-05-14T05:42:58.817875",
     "status": "completed"
    },
    "tags": []
   },
   "outputs": [],
   "source": [
    "def create_model(h, device):\n",
    "    if (h[\"model\"]==\"cnn\"):\n",
    "        model = nn.Sequential(\n",
    "            nn.Conv2d(3, 16, 3, padding=1),\n",
    "            nn.ReLU(),\n",
    "            nn.MaxPool2d(2, 2),\n",
    "            nn.Conv2d(16, 32, 3, padding=1),\n",
    "            nn.ReLU(),\n",
    "            nn.MaxPool2d(2, 2),\n",
    "            nn.Conv2d(32, 64, 3, padding=1),\n",
    "            nn.ReLU(),\n",
    "            nn.MaxPool2d(2, 2),\n",
    "            nn.Flatten(),\n",
    "            nn.Dropout(0.25),\n",
    "            nn.Linear(64 * (h[\"image_size\"] // 8) * (h[\"image_size\"] // 8), 512),\n",
    "            nn.ReLU(),\n",
    "            nn.Dropout(0.25),\n",
    "            nn.Linear(512, 2)\n",
    "        )\n",
    "        model = model.to(device)\n",
    "        return model\n",
    "\n",
    "    # if (h[\"model\"]==\"efficientnetv2\"):\n",
    "    #     model = timm.create_model(\"tf_efficientnetv2_b0\", pretrained=True)\n",
    "\n",
    "    #     # Freeze\n",
    "    #     for param in model.parameters():\n",
    "    #         param.requires_grad = False\n",
    "\n",
    "    #     # Unfreeze last layer (blocks[-1])\n",
    "    #     for param in model.blocks[-1].parameters():\n",
    "    #         param.requires_grad = True\n",
    "\n",
    "    #     # Replace classifier\n",
    "    #     num_features = model.classifier.in_features\n",
    "    #     model.classifier = nn.Sequential(\n",
    "    #         nn.Dropout(0.3),\n",
    "    #         nn.Linear(num_features, 256),\n",
    "    #         nn.BatchNorm1d(256),\n",
    "    #         nn.ReLU(),\n",
    "    #         nn.Dropout(0.3),\n",
    "    #         nn.Linear(256, 2)\n",
    "    #     )\n",
    "\n",
    "    #     # Unfreeze FC layer\n",
    "    #     for param in model.classifier.parameters():\n",
    "    #         param.requires_grad = True\n",
    "\n",
    "    #     model = model.to(device)\n",
    "    #     return model\n",
    "    \n",
    "    if (h[\"model\"]==\"resnet50\"):\n",
    "        model = resnet50(weights=ResNet50_Weights.IMAGENET1K_V1)\n",
    "        \n",
    "        # Freeze\n",
    "        for param in model.parameters():\n",
    "            param.requires_grad = False\n",
    "\n",
    "        # Unfreeze last layer (layer4)\n",
    "        for param in model.layer4.parameters():\n",
    "            param.requires_grad = True\n",
    "\n",
    "        # Replace FC layer\n",
    "        num_features = model.fc.in_features\n",
    "        model.fc = nn.Sequential(\n",
    "            nn.Dropout(0.5),\n",
    "            nn.Linear(num_features, 128),\n",
    "            nn.BatchNorm1d(128),\n",
    "            nn.ReLU(),\n",
    "            nn.Dropout(0.5),\n",
    "            nn.Linear(128, 2)\n",
    "        )\n",
    "\n",
    "        # Unfreeze FC layer\n",
    "        for param in model.fc.parameters():\n",
    "            param.requires_grad = True\n",
    "\n",
    "        model = model.to(device)\n",
    "        return model"
   ]
  },
  {
   "cell_type": "code",
   "execution_count": 4,
   "id": "a5aa2425",
   "metadata": {
    "execution": {
     "iopub.execute_input": "2025-05-14T05:42:58.833082Z",
     "iopub.status.busy": "2025-05-14T05:42:58.832821Z",
     "iopub.status.idle": "2025-05-14T05:42:58.847409Z",
     "shell.execute_reply": "2025-05-14T05:42:58.846764Z"
    },
    "papermill": {
     "duration": 0.018274,
     "end_time": "2025-05-14T05:42:58.848522",
     "exception": false,
     "start_time": "2025-05-14T05:42:58.830248",
     "status": "completed"
    },
    "tags": []
   },
   "outputs": [],
   "source": [
    "def train_model(h, model, train_loader, val_loader, optimizer, criterion, scheduler, device):\n",
    "    train_loss_history = []\n",
    "    val_loss_history = []\n",
    "    \n",
    "    train_acc_history = [] \n",
    "    val_acc_history = []\n",
    "\n",
    "    start_time = time.time()\n",
    "    num_epochs = h[\"num_epochs\"]\n",
    "\n",
    "    for epoch in range(num_epochs):\n",
    "        model.train()\n",
    "        running_loss = 0.0\n",
    "        correct = 0\n",
    "        total = 0\n",
    "        \n",
    "        progress_bar = tqdm(train_loader, desc=f\"Training epoch {epoch + 1}/{num_epochs}\", leave=False, unit=\"mini-batch\")\n",
    "        for inputs, labels in progress_bar:\n",
    "            inputs, labels = inputs.to(device), labels.to(device)      \n",
    "            optimizer.zero_grad()\n",
    "            outputs = model(inputs)\n",
    "            loss = criterion(outputs, labels)\n",
    "            loss.backward()\n",
    "            optimizer.step()\n",
    "\n",
    "            running_loss += loss.item()\n",
    "            _, predicted = torch.max(outputs.data, 1)\n",
    "            total += labels.size(0)\n",
    "            correct += (predicted == labels).sum().item()\n",
    "            \n",
    "            progress_bar.set_postfix(loss=loss.item())\n",
    "        \n",
    "        train_accuracy = correct / total\n",
    "        train_acc_history.append(train_accuracy)\n",
    "\n",
    "        val_loss, val_accuracy, _, _ = evaluate_model(h, model, val_loader, criterion, device)\n",
    "        val_acc_history.append(val_accuracy)\n",
    "        \n",
    "        if (scheduler):\n",
    "            scheduler.step(val_loss)\n",
    "        \n",
    "        # Store the loss history\n",
    "        train_loss = running_loss / len(train_loader)\n",
    "        train_loss_history.append(train_loss)\n",
    "        val_loss_history.append(val_loss)     \n",
    "\n",
    "        # Calculate elapsed time and remaining time\n",
    "        elapsed_time = time.time() - start_time\n",
    "        avg_time_per_epoch = elapsed_time / (epoch + 1)\n",
    "        remaining_epochs = num_epochs - (epoch + 1)\n",
    "        remaining_time = avg_time_per_epoch * remaining_epochs\n",
    "\n",
    "        # Convert remaining time to minutes and seconds\n",
    "        remaining_time_min, remaining_time_sec = divmod(remaining_time, 60)\n",
    "\n",
    "        print(f\"Epoch [{epoch + 1}/{num_epochs}]: Train Loss: {running_loss / len(train_loader):.4f}, Val Loss: {val_loss:.4f}, Remaining Time: {remaining_time_min:.0f}m {remaining_time_sec:.0f}s\")\n",
    "    # Save train history\n",
    "    np.save('train_loss_history.npy', np.array(train_loss_history))\n",
    "    np.save('val_loss_history.npy', np.array(val_loss_history))\n",
    "    np.save('train_acc_history.npy', np.array(train_acc_history)) \n",
    "    np.save('val_acc_history.npy', np.array(val_acc_history))\n",
    "\n",
    "    return train_loss_history, val_loss_history, train_acc_history, val_acc_history\n",
    "\n",
    "def evaluate_model(h, model, data_loader, criterion, device):\n",
    "    true_labels = []\n",
    "    predicted_labels = []\n",
    "    total_loss = 0.0\n",
    "    correct = 0\n",
    "    total = 0\n",
    "    model.eval()\n",
    "    with torch.no_grad():\n",
    "        for inputs, labels in data_loader:\n",
    "            inputs, labels = inputs.to(device), labels.to(device)          \n",
    "\n",
    "            outputs = model(inputs)\n",
    "\n",
    "            loss = criterion(outputs, labels)\n",
    "            total_loss += loss.item()\n",
    "\n",
    "            _, predicted = torch.max(outputs.data, 1)\n",
    "            correct += (predicted == labels).sum().item()\n",
    "            total += labels.size(0)\n",
    "\n",
    "            true_labels.extend(labels.cpu().numpy())\n",
    "            predicted_labels.extend(predicted.cpu().numpy())\n",
    "\n",
    "    epoch_loss = total_loss / len(data_loader)\n",
    "    epoch_accuracy = float(correct / total)\n",
    "\n",
    "    return epoch_loss, epoch_accuracy, true_labels, predicted_labels\n",
    "\n",
    "\n",
    "def plot_metrics(h, \n",
    "                 train_loss_history, val_loss_history, \n",
    "                 train_acc_history, val_acc_history,\n",
    "                 test_loss, test_accuracy, \n",
    "                 true_labels, predicted_labels):\n",
    "    print(f\"Accuracy on the test set: {test_accuracy:.2%}\")\n",
    "\n",
    "    # Calculate precision, recall, and F1 score using the accumulated true labels and predictions\n",
    "    precision = precision_score(true_labels, predicted_labels)\n",
    "    recall = recall_score(true_labels, predicted_labels)\n",
    "    f1 = f1_score(true_labels, predicted_labels)\n",
    "    print(f\"Precision: {precision:.2f}, Recall: {recall:.2f}, F1 score: {f1:.2f}\")\n",
    "\n",
    "    # Calculate the confusion matrix using the accumulated true labels and predictions\n",
    "    cm = confusion_matrix(true_labels, predicted_labels)\n",
    "\n",
    "    # Visualize the confusion matrix\n",
    "    plt.figure()\n",
    "    disp = ConfusionMatrixDisplay(confusion_matrix=cm, display_labels=[\"Normal\", \"Pneumonia\"])\n",
    "    disp.plot()\n",
    "    \n",
    "    # Plot the learning curves\n",
    "    plt.figure()\n",
    "    plt.plot(train_loss_history, label='Train Loss')\n",
    "    plt.plot(val_loss_history, label='Validation Loss')\n",
    "    plt.xlabel('Epoch')\n",
    "    plt.ylabel('Loss')\n",
    "    plt.title('Loss history')\n",
    "    plt.legend()\n",
    "    plt.show()  \n",
    "\n",
    "    # Plot accuracy history\n",
    "    plt.figure()\n",
    "    plt.plot(train_acc_history, label='Train Accuracy')\n",
    "    plt.plot(val_acc_history, label='Validation Accuracy')\n",
    "    plt.xlabel('Epoch')\n",
    "    plt.ylabel('Accuracy')\n",
    "    plt.title('Accuracy History')\n",
    "    plt.legend()\n",
    "    plt.show()\n",
    "\n",
    "def create_scheduler(h, optimizer, lr):\n",
    "    scheduler_name = h[\"scheduler\"]\n",
    "    if (scheduler_name==\"\"):\n",
    "        return None\n",
    "    if (scheduler_name==\"CosineAnnealingLR10\"):\n",
    "        return torch.optim.lr_scheduler.CosineAnnealingLR(optimizer, T_max=h[\"num_epochs\"], eta_min=lr*0.1)\n",
    "    if (scheduler_name==\"ReduceLROnPlateau5\"):\n",
    "        return torch.optim.lr_scheduler.ReduceLROnPlateau(optimizer, mode='min', factor=0.1, patience=5, verbose=True)\n",
    "    print (\"Error. Unknown scheduler name '{scheduler_name}'\")\n",
    "    return None"
   ]
  },
  {
   "cell_type": "code",
   "execution_count": 5,
   "id": "ff715d59",
   "metadata": {
    "execution": {
     "iopub.execute_input": "2025-05-14T05:42:58.853258Z",
     "iopub.status.busy": "2025-05-14T05:42:58.853017Z",
     "iopub.status.idle": "2025-05-14T05:42:58.858461Z",
     "shell.execute_reply": "2025-05-14T05:42:58.857878Z"
    },
    "papermill": {
     "duration": 0.008963,
     "end_time": "2025-05-14T05:42:58.859524",
     "exception": false,
     "start_time": "2025-05-14T05:42:58.850561",
     "status": "completed"
    },
    "tags": []
   },
   "outputs": [],
   "source": [
    "def check_solution(h, device, verbose):\n",
    "    train_loader, val_loader, test_loader = prepare_data(h)\n",
    "    print_dataset_summary(train_loader, \"TRAIN\")\n",
    "    print_dataset_summary(val_loader, \"VALIDATION\")\n",
    "    print_dataset_summary(test_loader, \"TEST\")\n",
    "    model = create_model(h, device)\n",
    "    optimizer = torch.optim.Adam(model.parameters(), lr=h[\"lr\"], weight_decay=1e-4)\n",
    "    scheduler = create_scheduler(h, optimizer, h[\"lr\"])\n",
    "    criterion = nn.CrossEntropyLoss(label_smoothing=0.1)\n",
    "    train_loss_history, val_loss_history, train_acc_history, val_acc_history = train_model(\n",
    "        h, model, train_loader, val_loader, optimizer, criterion, scheduler, device)\n",
    "    \n",
    "    test_loss, test_accuracy, true_labels, predicted_labels = evaluate_model(\n",
    "        h, model, test_loader, criterion, device)\n",
    "    \n",
    "    if verbose:\n",
    "        plot_metrics(h,\n",
    "                     train_loss_history, val_loss_history, \n",
    "                     train_acc_history, val_acc_history,\n",
    "                     test_loss, test_accuracy, true_labels, predicted_labels)\n",
    "\n",
    "    f1 = f1_score(true_labels, predicted_labels)\n",
    "    \n",
    "    save_path = \"m_resnet50.pth\"\n",
    "    torch.save(model.state_dict(), save_path)\n",
    "    print(f\"Model weights saved to {save_path}\")\n",
    "    \n",
    "    return f1, test_accuracy"
   ]
  },
  {
   "cell_type": "code",
   "execution_count": 6,
   "id": "096094a8",
   "metadata": {
    "execution": {
     "iopub.execute_input": "2025-05-14T05:42:58.864266Z",
     "iopub.status.busy": "2025-05-14T05:42:58.864044Z",
     "iopub.status.idle": "2025-05-14T06:59:47.857965Z",
     "shell.execute_reply": "2025-05-14T06:59:47.856897Z"
    },
    "papermill": {
     "duration": 4608.997723,
     "end_time": "2025-05-14T06:59:47.859240",
     "exception": false,
     "start_time": "2025-05-14T05:42:58.861517",
     "status": "completed"
    },
    "tags": []
   },
   "outputs": [
    {
     "name": "stdout",
     "output_type": "stream",
     "text": [
      "Device: cuda\n",
      "Number of CPU cores: 4\n",
      "GPU name: Tesla P100-PCIE-16GB\n",
      "Hyperparameters:\n",
      "{'balance': True,\n",
      " 'batch_size': 32,\n",
      " 'fc1_size': 512,\n",
      " 'image_size': 224,\n",
      " 'lr': 1e-05,\n",
      " 'model': 'resnet50',\n",
      " 'num_epochs': 20,\n",
      " 'scheduler': 'CosineAnnealingLR10'}\n",
      "Running solution 1/1\n",
      "\n",
      "TRAIN Set Summary:\n",
      "- Total samples: 4149\n",
      "- Class distribution:\n",
      "  NORMAL: 1073 samples (25.9%)\n",
      "  PNEUMONIA: 3076 samples (74.1%)\n",
      "\n",
      "VALIDATION Set Summary:\n",
      "- Total samples: 1067\n",
      "- Class distribution:\n",
      "  NORMAL: 268 samples (25.1%)\n",
      "  PNEUMONIA: 799 samples (74.9%)\n",
      "\n",
      "TEST Set Summary:\n",
      "- Total samples: 624\n",
      "- Class distribution:\n",
      "  NORMAL: 234 samples (37.5%)\n",
      "  PNEUMONIA: 390 samples (62.5%)\n"
     ]
    },
    {
     "name": "stderr",
     "output_type": "stream",
     "text": [
      "Downloading: \"https://download.pytorch.org/models/resnet50-0676ba61.pth\" to /root/.cache/torch/hub/checkpoints/resnet50-0676ba61.pth\n",
      "100%|██████████| 97.8M/97.8M [00:00<00:00, 231MB/s]\n",
      "/usr/local/lib/python3.11/dist-packages/torch/optim/lr_scheduler.py:240: UserWarning: The epoch parameter in `scheduler.step()` was not necessary and is being deprecated where possible. Please use `scheduler.step()` to step the scheduler. During the deprecation, if epoch is different from None, the closed form is used instead of the new chainable form, where available. Please open an issue if you are unable to replicate your use case: https://github.com/pytorch/pytorch/issues/new/choose.\n",
      "  warnings.warn(EPOCH_DEPRECATION_WARNING, UserWarning)\n"
     ]
    },
    {
     "name": "stdout",
     "output_type": "stream",
     "text": [
      "Epoch [1/20]: Train Loss: 0.5353, Val Loss: 0.4884, Remaining Time: 62m 38s\n"
     ]
    },
    {
     "name": "stderr",
     "output_type": "stream",
     "text": [
      "                                                                                          \r"
     ]
    },
    {
     "name": "stdout",
     "output_type": "stream",
     "text": [
      "Epoch [2/20]: Train Loss: 0.3657, Val Loss: 0.3693, Remaining Time: 61m 9s\n"
     ]
    },
    {
     "name": "stderr",
     "output_type": "stream",
     "text": [
      "                                                                                          \r"
     ]
    },
    {
     "name": "stdout",
     "output_type": "stream",
     "text": [
      "Epoch [3/20]: Train Loss: 0.3220, Val Loss: 0.3410, Remaining Time: 58m 29s\n"
     ]
    },
    {
     "name": "stderr",
     "output_type": "stream",
     "text": [
      "                                                                                          \r"
     ]
    },
    {
     "name": "stdout",
     "output_type": "stream",
     "text": [
      "Epoch [4/20]: Train Loss: 0.3150, Val Loss: 0.3355, Remaining Time: 55m 26s\n"
     ]
    },
    {
     "name": "stderr",
     "output_type": "stream",
     "text": [
      "                                                                                          \r"
     ]
    },
    {
     "name": "stdout",
     "output_type": "stream",
     "text": [
      "Epoch [5/20]: Train Loss: 0.2939, Val Loss: 0.3022, Remaining Time: 52m 25s\n"
     ]
    },
    {
     "name": "stderr",
     "output_type": "stream",
     "text": [
      "                                                                                          \r"
     ]
    },
    {
     "name": "stdout",
     "output_type": "stream",
     "text": [
      "Epoch [6/20]: Train Loss: 0.2958, Val Loss: 0.2817, Remaining Time: 49m 4s\n"
     ]
    },
    {
     "name": "stderr",
     "output_type": "stream",
     "text": [
      "                                                                                          \r"
     ]
    },
    {
     "name": "stdout",
     "output_type": "stream",
     "text": [
      "Epoch [7/20]: Train Loss: 0.2865, Val Loss: 0.2963, Remaining Time: 45m 36s\n"
     ]
    },
    {
     "name": "stderr",
     "output_type": "stream",
     "text": [
      "                                                                                          \r"
     ]
    },
    {
     "name": "stdout",
     "output_type": "stream",
     "text": [
      "Epoch [8/20]: Train Loss: 0.2831, Val Loss: 0.2692, Remaining Time: 42m 3s\n"
     ]
    },
    {
     "name": "stderr",
     "output_type": "stream",
     "text": [
      "                                                                                          \r"
     ]
    },
    {
     "name": "stdout",
     "output_type": "stream",
     "text": [
      "Epoch [9/20]: Train Loss: 0.2817, Val Loss: 0.3092, Remaining Time: 38m 33s\n"
     ]
    },
    {
     "name": "stderr",
     "output_type": "stream",
     "text": [
      "                                                                                           \r"
     ]
    },
    {
     "name": "stdout",
     "output_type": "stream",
     "text": [
      "Epoch [10/20]: Train Loss: 0.2751, Val Loss: 0.2649, Remaining Time: 35m 2s\n"
     ]
    },
    {
     "name": "stderr",
     "output_type": "stream",
     "text": [
      "                                                                                           \r"
     ]
    },
    {
     "name": "stdout",
     "output_type": "stream",
     "text": [
      "Epoch [11/20]: Train Loss: 0.2762, Val Loss: 0.2666, Remaining Time: 31m 36s\n"
     ]
    },
    {
     "name": "stderr",
     "output_type": "stream",
     "text": [
      "                                                                                           \r"
     ]
    },
    {
     "name": "stdout",
     "output_type": "stream",
     "text": [
      "Epoch [12/20]: Train Loss: 0.2695, Val Loss: 0.2715, Remaining Time: 28m 3s\n"
     ]
    },
    {
     "name": "stderr",
     "output_type": "stream",
     "text": [
      "                                                                                          \r"
     ]
    },
    {
     "name": "stdout",
     "output_type": "stream",
     "text": [
      "Epoch [13/20]: Train Loss: 0.2696, Val Loss: 0.2809, Remaining Time: 24m 33s\n"
     ]
    },
    {
     "name": "stderr",
     "output_type": "stream",
     "text": [
      "                                                                                           \r"
     ]
    },
    {
     "name": "stdout",
     "output_type": "stream",
     "text": [
      "Epoch [14/20]: Train Loss: 0.2707, Val Loss: 0.2590, Remaining Time: 21m 2s\n"
     ]
    },
    {
     "name": "stderr",
     "output_type": "stream",
     "text": [
      "                                                                                           \r"
     ]
    },
    {
     "name": "stdout",
     "output_type": "stream",
     "text": [
      "Epoch [15/20]: Train Loss: 0.2637, Val Loss: 0.2654, Remaining Time: 17m 31s\n"
     ]
    },
    {
     "name": "stderr",
     "output_type": "stream",
     "text": [
      "                                                                                           \r"
     ]
    },
    {
     "name": "stdout",
     "output_type": "stream",
     "text": [
      "Epoch [16/20]: Train Loss: 0.2639, Val Loss: 0.2826, Remaining Time: 14m 0s\n"
     ]
    },
    {
     "name": "stderr",
     "output_type": "stream",
     "text": [
      "                                                                                           \r"
     ]
    },
    {
     "name": "stdout",
     "output_type": "stream",
     "text": [
      "Epoch [17/20]: Train Loss: 0.2632, Val Loss: 0.2869, Remaining Time: 10m 30s\n"
     ]
    },
    {
     "name": "stderr",
     "output_type": "stream",
     "text": [
      "                                                                                           \r"
     ]
    },
    {
     "name": "stdout",
     "output_type": "stream",
     "text": [
      "Epoch [18/20]: Train Loss: 0.2620, Val Loss: 0.2513, Remaining Time: 7m 0s\n"
     ]
    },
    {
     "name": "stderr",
     "output_type": "stream",
     "text": [
      "                                                                                           \r"
     ]
    },
    {
     "name": "stdout",
     "output_type": "stream",
     "text": [
      "Epoch [19/20]: Train Loss: 0.2634, Val Loss: 0.2678, Remaining Time: 3m 30s\n"
     ]
    },
    {
     "name": "stderr",
     "output_type": "stream",
     "text": [
      "                                                                                           \r"
     ]
    },
    {
     "name": "stdout",
     "output_type": "stream",
     "text": [
      "Epoch [20/20]: Train Loss: 0.2608, Val Loss: 0.2592, Remaining Time: 0m 0s\n",
      "Accuracy on the test set: 93.11%\n",
      "Precision: 0.91, Recall: 0.98, F1 score: 0.95\n"
     ]
    },
    {
     "data": {
      "text/plain": [
       "<Figure size 640x480 with 0 Axes>"
      ]
     },
     "metadata": {},
     "output_type": "display_data"
    },
    {
     "data": {
      "image/png": "[encoded data removed]",
      "text/plain": [
       "<Figure size 640x480 with 2 Axes>"
      ]
     },
     "metadata": {},
     "output_type": "display_data"
    },
    {
     "data": {
      "image/png": "[encoded data removed]",
      "text/plain": [
       "<Figure size 640x480 with 1 Axes>"
      ]
     },
     "metadata": {},
     "output_type": "display_data"
    },
    {
     "data": {
      "image/png": "[encoded data removed]",
      "text/plain": [
       "<Figure size 640x480 with 1 Axes>"
      ]
     },
     "metadata": {},
     "output_type": "display_data"
    },
    {
     "name": "stdout",
     "output_type": "stream",
     "text": [
      "Model weights saved to m_resnet50.pth\n",
      "F1 = 0.95, accuracy = 0.93\n"
     ]
    }
   ],
   "source": [
    "h = {\n",
    "    \"num_epochs\": 20,\n",
    "    \"batch_size\": 32,\n",
    "    \"image_size\": 224,\n",
    "    \"fc1_size\": 512,\n",
    "    \"lr\": 1e-5,\n",
    "    \"model\": \"resnet50\",\n",
    "    \"scheduler\": \"CosineAnnealingLR10\",\n",
    "    \"balance\": True,\n",
    "}\n",
    "\n",
    "# Check if GPU is available and set the device accordingly\n",
    "device = torch.device(\"cuda\" if torch.cuda.is_available() else \"cpu\")\n",
    "print(f\"Device: {device}\")\n",
    "\n",
    "# Get number of CPU cores\n",
    "num_cpu_cores = os.cpu_count()\n",
    "print(f\"Number of CPU cores: {num_cpu_cores}\")\n",
    "\n",
    "# Get GPU name\n",
    "if torch.cuda.is_available():\n",
    "    gpu_name = torch.cuda.get_device_name(0)\n",
    "    print(f\"GPU name: {gpu_name}\")\n",
    "else:\n",
    "    print(\"No GPU available\")\n",
    "\n",
    "# Print hyperparameters for records\n",
    "print(\"Hyperparameters:\")\n",
    "pprint.pprint(h)\n",
    "\n",
    "f1_array = np.array([])\n",
    "accuracy_array = np.array([])\n",
    "start_time = time.time()\n",
    "\n",
    "# Run model\n",
    "print(\"Running solution 1/1\")\n",
    "f1, accuracy = check_solution(h, device, verbose=True)\n",
    "print(f\"F1 = {f1:.2f}, accuracy = {accuracy:.2f}\")\n",
    "\n",
    "# Calculate time\n",
    "elapsed_time = time.time() - start_time\n",
    "elapsed_min, elapsed_sec = divmod(elapsed_time, 60)"
   ]
  },
  {
   "cell_type": "code",
   "execution_count": 7,
   "id": "2d35f543",
   "metadata": {
    "execution": {
     "iopub.execute_input": "2025-05-14T06:59:48.234580Z",
     "iopub.status.busy": "2025-05-14T06:59:48.233916Z",
     "iopub.status.idle": "2025-05-14T06:59:48.237371Z",
     "shell.execute_reply": "2025-05-14T06:59:48.236782Z"
    },
    "papermill": {
     "duration": 0.19284,
     "end_time": "2025-05-14T06:59:48.238574",
     "exception": false,
     "start_time": "2025-05-14T06:59:48.045734",
     "status": "completed"
    },
    "tags": []
   },
   "outputs": [],
   "source": [
    "# def load_model(h, device, path):\n",
    "#     model = create_model(h, device)\n",
    "#     # Load weights\n",
    "#     model.load_state_dict(torch.load(path))\n",
    "#     model.eval() \n",
    "#     return model\n",
    "\n",
    "# loaded_model = load_model(h, device, '/content/weigth_efficientnetv2.pth')"
   ]
  }
 ],
 "metadata": {
  "kaggle": {
   "accelerator": "gpu",
   "dataSources": [
    {
     "datasetId": 17810,
     "sourceId": 23812,
     "sourceType": "datasetVersion"
    }
   ],
   "dockerImageVersionId": 31011,
   "isGpuEnabled": true,
   "isInternetEnabled": true,
   "language": "python",
   "sourceType": "notebook"
  },
  "kernelspec": {
   "display_name": "Python 3",
   "language": "python",
   "name": "python3"
  },
  "language_info": {
   "codemirror_mode": {
    "name": "ipython",
    "version": 3
   },
   "file_extension": ".py",
   "mimetype": "text/x-python",
   "name": "python",
   "nbconvert_exporter": "python",
   "pygments_lexer": "ipython3",
   "version": "3.11.11"
  },
  "papermill": {
   "default_parameters": {},
   "duration": 4627.06916,
   "end_time": "2025-05-14T06:59:51.234962",
   "environment_variables": {},
   "exception": null,
   "input_path": "__notebook__.ipynb",
   "output_path": "__notebook__.ipynb",
   "parameters": {},
   "start_time": "2025-05-14T05:42:44.165802",
   "version": "2.6.0"
  }
 },
 "nbformat": 4,
 "nbformat_minor": 5
}
